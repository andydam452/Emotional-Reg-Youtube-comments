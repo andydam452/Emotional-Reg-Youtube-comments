{
 "cells": [
  {
   "cell_type": "code",
   "execution_count": 1,
   "metadata": {},
   "outputs": [
    {
     "data": {
      "text/plain": [
       "'/Users/thanhdo/opt/anaconda3/bin'"
      ]
     },
     "execution_count": 1,
     "metadata": {},
     "output_type": "execute_result"
    }
   ],
   "source": [
    "import os\n",
    "import sys\n",
    "os.path.dirname(sys.executable)"
   ]
  },
  {
   "cell_type": "code",
   "execution_count": 3,
   "metadata": {},
   "outputs": [],
   "source": [
    "from selenium import webdriver\n",
    "import time \n",
    "from selenium.webdriver.common.by import By\n",
    "from selenium.webdriver.common.keys import Keys\n",
    "from selenium.webdriver.support.ui import WebDriverWait\n",
    "from selenium.webdriver.support import expected_conditions as EC\n",
    "import pandas as pd"
   ]
  },
  {
   "cell_type": "code",
   "execution_count": 6,
   "metadata": {},
   "outputs": [],
   "source": [
    "link =['https://www.youtube.com/watch?v=yRq5zlFTedc',\n",
    "       'https://www.youtube.com/watch?v=9pCn9xkhrxw',\n",
    "       'https://www.youtube.com/watch?v=6FGBRpcn1ZI']"
   ]
  },
  {
   "cell_type": "code",
   "execution_count": 155,
   "metadata": {},
   "outputs": [
    {
     "name": "stdout",
     "output_type": "stream",
     "text": [
      "140\n",
      "Tẩy chay công ty Thuỵ Điển nhưng vẫn ủng hộ Xiaomi TikTok Huawei :))\n",
      "129\n",
      "Tẩy chay công ty Thuỵ Điển nhưng vẫn ủng hộ Xiaomi TikTok Huawei :))\n",
      "160\n",
      "Tẩy chay công ty Thuỵ Điển nhưng vẫn ủng hộ Xiaomi TikTok Huawei :))\n"
     ]
    }
   ],
   "source": [
    "data = []\n",
    "path = '/Users/thanhdo/Documents/college_junior_1st/DataMining/chromedriver'\n",
    "\n",
    "for url in link:\n",
    "    driver = webdriver.Chrome(path)\n",
    "    driver.get(url)\n",
    "    wait = WebDriverWait(driver, 10)\n",
    "\n",
    "    for item in range(5): \n",
    "        wait.until(EC.visibility_of_element_located((By.TAG_NAME, \"body\"))).send_keys(Keys.END)\n",
    "        time.sleep(25)\n",
    "    comments = driver.find_elements_by_id('content-text')\n",
    "#     print(len(comments))\n",
    "    for i in range(1,101):\n",
    "        data.append(comments[i].text)\n",
    "#     print(data[0])\n",
    "    driver.quit()"
   ]
  },
  {
   "cell_type": "code",
   "execution_count": 156,
   "metadata": {},
   "outputs": [
    {
     "name": "stdout",
     "output_type": "stream",
     "text": [
      "300\n"
     ]
    }
   ],
   "source": [
    "print(len(data))"
   ]
  },
  {
   "cell_type": "code",
   "execution_count": 165,
   "metadata": {},
   "outputs": [],
   "source": [
    "df = pd.DataFrame(data, columns=['Sentence'])"
   ]
  },
  {
   "cell_type": "code",
   "execution_count": 166,
   "metadata": {},
   "outputs": [],
   "source": [
    "export_xlsx = df.to_excel ('crawComments.xlsx', index = None, header=True)"
   ]
  },
  {
   "cell_type": "code",
   "execution_count": null,
   "metadata": {},
   "outputs": [],
   "source": []
  }
 ],
 "metadata": {
  "kernelspec": {
   "display_name": "Python 3",
   "language": "python",
   "name": "python3"
  },
  "language_info": {
   "codemirror_mode": {
    "name": "ipython",
    "version": 3
   },
   "file_extension": ".py",
   "mimetype": "text/x-python",
   "name": "python",
   "nbconvert_exporter": "python",
   "pygments_lexer": "ipython3",
   "version": "3.6.7rc1"
  }
 },
 "nbformat": 4,
 "nbformat_minor": 4
}
