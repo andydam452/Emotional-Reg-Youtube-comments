{
 "cells": [
  {
   "cell_type": "code",
   "execution_count": 1,
   "metadata": {},
   "outputs": [],
   "source": [
    "import pandas as pd\n",
    "from pyvi import ViTokenizer\n",
    "import re\n",
    "import nltk\n",
    "import seaborn as sns\n",
    "from matplotlib import pyplot\n",
    "import numpy as np"
   ]
  },
  {
   "cell_type": "markdown",
   "metadata": {},
   "source": [
    "# 1. Import data"
   ]
  },
  {
   "cell_type": "code",
   "execution_count": 58,
   "metadata": {},
   "outputs": [],
   "source": [
    "train_filename = \"train_nor_811.xlsx\"\n",
    "valid_filename = \"valid_nor_811.xlsx\"\n",
    "test_filename = \"test_nor_811.xlsx\"\n",
    "train_data = pd.read_excel(train_filename, engine = \"openpyxl\")\n",
    "valid_data = pd.read_excel(valid_filename, engine = \"openpyxl\")\n",
    "test_data = pd.read_excel(test_filename, engine = \"openpyxl\")"
   ]
  },
  {
   "cell_type": "code",
   "execution_count": 59,
   "metadata": {},
   "outputs": [],
   "source": [
    "from sklearn.preprocessing import LabelEncoder\n",
    "def file_processing(data):\n",
    "    data.drop(columns = {\"Unnamed: 0\"}, axis = 1, inplace = True)\n",
    "    data[\"emotion_encode\"] = data[\"Emotion\"]\n",
    "    encoder = LabelEncoder()\n",
    "    data.emotion_encode = encoder.fit_transform(data.Emotion)\n",
    "    return data"
   ]
  },
  {
   "cell_type": "code",
   "execution_count": 60,
   "metadata": {},
   "outputs": [],
   "source": [
    "train_data = file_processing(train_data)\n",
    "valid_data = file_processing(valid_data)\n",
    "test_data = file_processing(test_data)"
   ]
  },
  {
   "cell_type": "code",
   "execution_count": 61,
   "metadata": {},
   "outputs": [],
   "source": [
    "crawl_filename = \"crawComments.xlsx\"\n",
    "crawl_data = pd.read_excel(crawl_filename, engine = \"openpyxl\")\n",
    "\n",
    "crawl_data[\"emotion_encode\"] = crawl_data[\"Emotion\"]\n",
    "encoder = LabelEncoder()\n",
    "crawl_data.emotion_encode = encoder.fit_transform(crawl_data.Emotion)"
   ]
  },
  {
   "cell_type": "code",
   "execution_count": 45,
   "metadata": {},
   "outputs": [
    {
     "data": {
      "text/html": [
       "<div>\n",
       "<style scoped>\n",
       "    .dataframe tbody tr th:only-of-type {\n",
       "        vertical-align: middle;\n",
       "    }\n",
       "\n",
       "    .dataframe tbody tr th {\n",
       "        vertical-align: top;\n",
       "    }\n",
       "\n",
       "    .dataframe thead th {\n",
       "        text-align: right;\n",
       "    }\n",
       "</style>\n",
       "<table border=\"1\" class=\"dataframe\">\n",
       "  <thead>\n",
       "    <tr style=\"text-align: right;\">\n",
       "      <th></th>\n",
       "      <th>Emotion</th>\n",
       "      <th>Sentences</th>\n",
       "      <th>emotion_encode</th>\n",
       "    </tr>\n",
       "  </thead>\n",
       "  <tbody>\n",
       "    <tr>\n",
       "      <th>0</th>\n",
       "      <td>Enjoyment</td>\n",
       "      <td>Tẩy chay công ty Thuỵ Điển nhưng vẫn ủng hộ Xi...</td>\n",
       "      <td>2</td>\n",
       "    </tr>\n",
       "    <tr>\n",
       "      <th>1</th>\n",
       "      <td>Other</td>\n",
       "      <td>\"Gió đưa cây cải về trời\\n1kg rau muống dinh d...</td>\n",
       "      <td>4</td>\n",
       "    </tr>\n",
       "    <tr>\n",
       "      <th>2</th>\n",
       "      <td>Disgust</td>\n",
       "      <td>Tao sợ báo Việt Nam quá rồi từ vụ anh Dưa Leo ...</td>\n",
       "      <td>1</td>\n",
       "    </tr>\n",
       "    <tr>\n",
       "      <th>3</th>\n",
       "      <td>Ẹnjoyment</td>\n",
       "      <td>Vừa phơi vài chiếc quần xịp của HM vừa nghe a ...</td>\n",
       "      <td>7</td>\n",
       "    </tr>\n",
       "    <tr>\n",
       "      <th>4</th>\n",
       "      <td>Enjoyment</td>\n",
       "      <td>Quả cuối video,cách tẩy chay quá đỉnh!</td>\n",
       "      <td>2</td>\n",
       "    </tr>\n",
       "  </tbody>\n",
       "</table>\n",
       "</div>"
      ],
      "text/plain": [
       "     Emotion                                          Sentences  \\\n",
       "0  Enjoyment  Tẩy chay công ty Thuỵ Điển nhưng vẫn ủng hộ Xi...   \n",
       "1      Other  \"Gió đưa cây cải về trời\\n1kg rau muống dinh d...   \n",
       "2    Disgust  Tao sợ báo Việt Nam quá rồi từ vụ anh Dưa Leo ...   \n",
       "3  Ẹnjoyment  Vừa phơi vài chiếc quần xịp của HM vừa nghe a ...   \n",
       "4  Enjoyment             Quả cuối video,cách tẩy chay quá đỉnh!   \n",
       "\n",
       "   emotion_encode  \n",
       "0               2  \n",
       "1               4  \n",
       "2               1  \n",
       "3               7  \n",
       "4               2  "
      ]
     },
     "execution_count": 45,
     "metadata": {},
     "output_type": "execute_result"
    }
   ],
   "source": [
    "crawl_data.head()"
   ]
  },
  {
   "cell_type": "markdown",
   "metadata": {},
   "source": [
    "# 2. Data visualization"
   ]
  },
  {
   "cell_type": "code",
   "execution_count": null,
   "metadata": {},
   "outputs": [],
   "source": []
  },
  {
   "cell_type": "markdown",
   "metadata": {},
   "source": [
    "# 3. Data preprocessing"
   ]
  },
  {
   "cell_type": "code",
   "execution_count": 54,
   "metadata": {},
   "outputs": [],
   "source": [
    "def remove_duplicate(word):\n",
    "    prev_char = \"\"\n",
    "    clean_word = \"\"\n",
    "    for character in word:\n",
    "        if(character != prev_char):\n",
    "            clean_word += character\n",
    "            prev_char = character\n",
    "    return clean_word"
   ]
  },
  {
   "cell_type": "code",
   "execution_count": 55,
   "metadata": {},
   "outputs": [],
   "source": [
    "def deEmojify(string):\n",
    "    emoji_pattern = re.compile(\"[\"\n",
    "                               u\"\\U0001F600-\\U0001F64F\"  # emoticons\n",
    "                               u\"\\U0001F300-\\U0001F5FF\"  # symbols & pictographs\n",
    "                               u\"\\U0001F680-\\U0001F6FF\"  # transport & map symbols\n",
    "                               u\"\\U0001F1E0-\\U0001F1FF\"  # flags (iOS)\n",
    "                               u\"\\U00002500-\\U00002BEF\"  # chinese char\n",
    "                               u\"\\U00002702-\\U000027B0\"\n",
    "                               u\"\\U00002702-\\U000027B0\"\n",
    "                               u\"\\U000024C2-\\U0001F251\"\n",
    "                               u\"\\U0001f926-\\U0001f937\"\n",
    "                               u\"\\U00010000-\\U0010ffff\"\n",
    "                               u\"\\u2640-\\u2642\"\n",
    "                               u\"\\u2600-\\u2B55\"\n",
    "                               u\"\\u200d\"\n",
    "                               u\"\\u23cf\"\n",
    "                               u\"\\u23e9\"\n",
    "                               u\"\\u231a\"\n",
    "                               u\"\\ufe0f\"  # dingbats\n",
    "                               u\"\\u3030\"\n",
    "                               \"]+\", flags=re.UNICODE)\n",
    "    return emoji_pattern.sub(r'', string)\n",
    "\n",
    "def normalize_sentences(sentences):\n",
    "    punc_lst = {'.', ',', '...', '-', '“', '”', ':', '(', ')', '\"', '!', '&', ';', '?', '*', ']', '>', '…', '’',\"``\",\"''\", \"=\", \"%\", \"^\", \"@\", \"<\", \">\"}\n",
    "    confusing_words = {\"per\"}\n",
    "    acronym_word = {\n",
    "        \"ko\" : \"không\",\n",
    "        \"k\" : \"không\",\n",
    "        \"z\" : \"vậy\",\n",
    "        \"v\" : \"vậy\",\n",
    "        \"dzậy\" : \"vậy\",\n",
    "        \"dậy\": \"vậy\",\n",
    "        \"t\" : \"tao\",\n",
    "        \"m\" : \"mày\",\n",
    "        \"sgk\" : \"sách_giáo_khoa\",\n",
    "        \"zi\" : \"vậy\",\n",
    "        \"dth\" : \"dễ_thương\",\n",
    "        \"dume\": \"đụ mẹ\"\n",
    "    }\n",
    "    \n",
    "    clean_sentences = []\n",
    "    \n",
    "    # remove punctuation and lowercase\n",
    "    for sent in sentences:\n",
    "        \n",
    "        # remove emojis\n",
    "        sent = deEmojify(sent)\n",
    "        \n",
    "        sent = nltk.word_tokenize(sent)\n",
    "        temp = []\n",
    "        for word in sent:\n",
    "            word = word.lower()\n",
    "            word = remove_duplicate(word)\n",
    "            if (word in punc_lst or word in confusing_words):\n",
    "                continue\n",
    "            elif(word in acronym_word):\n",
    "                temp.append(acronym_word[word])\n",
    "            elif(word.isdigit()):\n",
    "                temp.append(\"<NUM>\")\n",
    "            else:\n",
    "                temp.append(word)\n",
    "        # remove whitespace\n",
    "        sent = ' '.join(temp)\n",
    "        \n",
    "        clean_sentences.append(sent)\n",
    "        \n",
    "    return clean_sentences"
   ]
  },
  {
   "cell_type": "code",
   "execution_count": 56,
   "metadata": {},
   "outputs": [],
   "source": [
    "def normalize_dataset(data):\n",
    "    sentences = []\n",
    "    for i in range(len(data)):\n",
    "        sentences.append(ViTokenizer.tokenize(data.Sentence[i]))\n",
    "    \n",
    "    sentences = normalize_sentences(sentences)\n",
    "    encode_tags = data.emotion_encode\n",
    "    \n",
    "    # remove empty sentences\n",
    "    for idx, sent in enumerate(sentences):\n",
    "        if sent.strip() == \"\":\n",
    "            del sentences[idx]\n",
    "            del encode_tags[idx]\n",
    "    \n",
    "    return sentences, encode_tags"
   ]
  },
  {
   "cell_type": "code",
   "execution_count": 62,
   "metadata": {},
   "outputs": [],
   "source": [
    "train_clean_sentences, train_encode_tags = normalize_dataset(train_data)\n",
    "valid_clean_sentences, valid_encode_tags = normalize_dataset(valid_data)\n",
    "test_clean_sentences, test_encode_tags = normalize_dataset(test_data)\n",
    "crawl_clean_sentences, crawl_encode_tags = normalize_dataset(crawl_data)"
   ]
  },
  {
   "cell_type": "markdown",
   "metadata": {},
   "source": [
    "# 4. Model architecture"
   ]
  },
  {
   "cell_type": "code",
   "execution_count": 63,
   "metadata": {},
   "outputs": [],
   "source": [
    "from tensorflow.keras.layers import Flatten\n",
    "from tensorflow.keras import layers, activations , models , preprocessing , utils\n",
    "from keras.preprocessing.text import Tokenizer\n",
    "from keras.preprocessing.sequence import pad_sequences\n",
    "from keras.models import Sequential\n",
    "from keras.layers import Embedding, SpatialDropout1D, LSTM, Dense\n",
    "import tensorflow as tf\n",
    "from sklearn.metrics import classification_report"
   ]
  },
  {
   "cell_type": "markdown",
   "metadata": {},
   "source": [
    "### Tokenizer"
   ]
  },
  {
   "cell_type": "code",
   "execution_count": 64,
   "metadata": {},
   "outputs": [],
   "source": [
    "MAX_LEN = 150\n",
    "\n",
    "tokenizer = Tokenizer(lower = True, split = ' ')\n",
    "tokenizer.fit_on_texts(train_clean_sentences + valid_clean_sentences)\n",
    "\n",
    "X_train = tokenizer.texts_to_sequences(train_clean_sentences)\n",
    "X_train = pad_sequences(X_train, MAX_LEN, padding='post', truncating='post')\n",
    "\n",
    "X_valid = tokenizer.texts_to_sequences(valid_clean_sentences)\n",
    "X_valid = pad_sequences(X_valid, MAX_LEN, padding='post', truncating='post')\n",
    "\n",
    "X_test = tokenizer.texts_to_sequences(test_clean_sentences)\n",
    "X_test = pad_sequences(X_test, MAX_LEN, padding='post', truncating='post')\n",
    "\n",
    "X_crawl = tokenizer.texts_to_sequences(crawl_clean_sentences)\n",
    "X_crawl = pad_sequences(X_crawl, MAX_LEN, padding='post', truncating='post')"
   ]
  },
  {
   "cell_type": "code",
   "execution_count": 65,
   "metadata": {},
   "outputs": [],
   "source": [
    "vocab_size = len(tokenizer.word_index) + 1"
   ]
  },
  {
   "cell_type": "markdown",
   "metadata": {},
   "source": [
    "### Word2Vec"
   ]
  },
  {
   "cell_type": "code",
   "execution_count": 108,
   "metadata": {},
   "outputs": [],
   "source": [
    "from gensim.models import Word2Vec\n",
    "import numpy as np\n",
    "MAX_LEN = 150\n",
    "w2v_model = Word2Vec(train_clean_sentences + valid_clean_sentences, min_count = 1, size = MAX_LEN)"
   ]
  },
  {
   "cell_type": "code",
   "execution_count": 109,
   "metadata": {},
   "outputs": [],
   "source": [
    "def convert2vec(sentence):\n",
    "    _sum = np.array([0]*MAX_LEN)\n",
    "    for word in sentence:\n",
    "        if not(word in w2v_model.wv.vocab):\n",
    "            continue\n",
    "        vec = w2v_model.wv[word]\n",
    "        _sum = _sum + vec\n",
    "    return _sum/len(sentence)"
   ]
  },
  {
   "cell_type": "code",
   "execution_count": 110,
   "metadata": {},
   "outputs": [],
   "source": [
    "X_train = []\n",
    "for sent in train_clean_sentences:\n",
    "    if len(sent) == 0:\n",
    "        X_train.append(np.array([0]*MAX_LEN))\n",
    "    else:\n",
    "        X_train.append(convert2vec(sent))\n",
    "X_train = np.array(X_train)\n",
    "\n",
    "X_valid = []\n",
    "for sent in valid_clean_sentences:\n",
    "    if len(sent) == 0:\n",
    "        X_valid.append(np.array([0]*MAX_LEN))\n",
    "    else:\n",
    "        X_valid.append(convert2vec(sent))\n",
    "X_valid = np.array(X_valid)"
   ]
  },
  {
   "cell_type": "markdown",
   "metadata": {},
   "source": [
    "### TF IDF"
   ]
  },
  {
   "cell_type": "code",
   "execution_count": 75,
   "metadata": {},
   "outputs": [],
   "source": [
    "from sklearn.feature_extraction.text import TfidfVectorizer\n",
    "tfidf_vectorizer = TfidfVectorizer(use_idf = True, max_features = 3000)\n",
    "\n",
    "fitted_vectorizer = tfidf_vectorizer.fit(train_clean_sentences)\n",
    "\n",
    "X_train = fitted_vectorizer.transform(train_clean_sentences).toarray()\n",
    "\n",
    "X_valid = fitted_vectorizer.transform(valid_clean_sentences).toarray()\n",
    "\n",
    "X_test = fitted_vectorizer.transform(test_clean_sentences).toarray()\n",
    "\n",
    "X_crawl = fitted_vectorizer.transform(crawl_clean_sentences).toarray()"
   ]
  },
  {
   "cell_type": "markdown",
   "metadata": {},
   "source": [
    "## 4.1 CNN Model"
   ]
  },
  {
   "cell_type": "code",
   "execution_count": 12,
   "metadata": {},
   "outputs": [],
   "source": [
    "embedding_dim = 128\n",
    "\n",
    "inputs = layers.Input(shape=( MAX_LEN , ))\n",
    "embedding = layers.Embedding(vocab_size, embedding_dim, input_length=MAX_LEN)(inputs)\n",
    "\n",
    "cnn1 = layers.Conv1D(filters=100, kernel_size=1, activation='relu')(embedding)\n",
    "cnn1 = layers.MaxPooling1D(pool_size=2)(cnn1)\n",
    "cnn1 = Flatten()(cnn1)\n",
    "\n",
    "cnn2 = layers.Conv1D(filters=100, kernel_size=2, activation='relu')(embedding)\n",
    "cnn2 = layers.MaxPooling1D(pool_size=2)(cnn2)\n",
    "cnn2 = Flatten()(cnn2)\n",
    "\n",
    "outputs = layers.Concatenate()([cnn1,cnn2])\n",
    "\n",
    "outputs = layers.Dense(28, activation='tanh')(outputs)\n",
    "outputs = layers.Dense(14, activation='tanh')(outputs)\n",
    "outputs = layers.Dense(7, activation='softmax')(outputs)\n",
    "model=models.Model(inputs,outputs)\n",
    "model.compile(optimizer='adam',\n",
    "              loss='binary_crossentropy',\n",
    "              metrics=['accuracy'])\n",
    "# model.summary()"
   ]
  },
  {
   "cell_type": "code",
   "execution_count": 13,
   "metadata": {},
   "outputs": [],
   "source": [
    "y_train = tf.keras.utils.to_categorical(train_encode_tags)\n",
    "y_valid = tf.keras.utils.to_categorical(valid_encode_tags)"
   ]
  },
  {
   "cell_type": "code",
   "execution_count": 14,
   "metadata": {},
   "outputs": [
    {
     "name": "stdout",
     "output_type": "stream",
     "text": [
      "Epoch 1/10\n",
      "174/174 [==============================] - 10s 57ms/step - loss: 0.3717 - accuracy: 0.3083 - val_loss: 0.3484 - val_accuracy: 0.3878\n",
      "Epoch 2/10\n",
      "174/174 [==============================] - 10s 55ms/step - loss: 0.3044 - accuracy: 0.5053 - val_loss: 0.3261 - val_accuracy: 0.4504\n",
      "Epoch 3/10\n",
      "174/174 [==============================] - 10s 57ms/step - loss: 0.2107 - accuracy: 0.6988 - val_loss: 0.3334 - val_accuracy: 0.4898\n",
      "Epoch 00003: early stopping\n"
     ]
    }
   ],
   "source": [
    "es = tf.keras.callbacks.EarlyStopping(monitor='val_loss', mode='min', verbose=1)\n",
    "history = model.fit(X_train, y_train,\n",
    "                    epochs = 10,\n",
    "                    callbacks = [es],\n",
    "                    validation_data=(X_valid, y_valid),\n",
    "                    batch_size = 32)"
   ]
  },
  {
   "cell_type": "code",
   "execution_count": 17,
   "metadata": {},
   "outputs": [
    {
     "data": {
      "image/png": "[encoded data removed]",
      "text/plain": [
       "<Figure size 432x288 with 1 Axes>"
      ]
     },
     "metadata": {
      "needs_background": "light"
     },
     "output_type": "display_data"
    }
   ],
   "source": [
    "pyplot.plot(history.history['accuracy'], label='trainset') \n",
    "pyplot.plot(history.history['val_accuracy'], label='validset') \n",
    "pyplot.legend() \n",
    "pyplot.show()"
   ]
  },
  {
   "cell_type": "code",
   "execution_count": 15,
   "metadata": {},
   "outputs": [],
   "source": [
    "y_pred = model.predict(X_test)\n",
    "y_pred = np.argmax(y_pred, axis = 1)"
   ]
  },
  {
   "cell_type": "code",
   "execution_count": 16,
   "metadata": {},
   "outputs": [
    {
     "name": "stdout",
     "output_type": "stream",
     "text": [
      "              precision    recall  f1-score   support\n",
      "\n",
      "           0       0.50      0.07      0.13        40\n",
      "           1       0.44      0.64      0.52       132\n",
      "           2       0.53      0.60      0.57       193\n",
      "           3       0.68      0.41      0.51        46\n",
      "           4       0.39      0.43      0.41       129\n",
      "           5       0.52      0.44      0.48       116\n",
      "           6       0.73      0.22      0.33        37\n",
      "\n",
      "    accuracy                           0.49       693\n",
      "   macro avg       0.54      0.40      0.42       693\n",
      "weighted avg       0.51      0.49      0.47       693\n",
      "\n"
     ]
    }
   ],
   "source": [
    "print(classification_report(test_encode_tags, y_pred))"
   ]
  },
  {
   "cell_type": "code",
   "execution_count": 68,
   "metadata": {},
   "outputs": [
    {
     "name": "stdout",
     "output_type": "stream",
     "text": [
      "              precision    recall  f1-score   support\n",
      "\n",
      "           0       0.00      0.00      0.00        49\n",
      "           1       0.24      0.37      0.29        35\n",
      "           2       0.55      0.74      0.63       114\n",
      "           3       0.50      0.24      0.32        21\n",
      "           4       0.30      0.29      0.30        51\n",
      "           5       0.12      0.43      0.19         7\n",
      "           6       0.00      0.00      0.00        17\n",
      "           7       0.00      0.00      0.00         1\n",
      "\n",
      "    accuracy                           0.41       295\n",
      "   macro avg       0.21      0.26      0.22       295\n",
      "weighted avg       0.33      0.41      0.36       295\n",
      "\n"
     ]
    },
    {
     "name": "stderr",
     "output_type": "stream",
     "text": [
      "c:\\python\\python36\\lib\\site-packages\\sklearn\\metrics\\_classification.py:1248: UndefinedMetricWarning: Precision and F-score are ill-defined and being set to 0.0 in labels with no predicted samples. Use `zero_division` parameter to control this behavior.\n",
      "  _warn_prf(average, modifier, msg_start, len(result))\n",
      "c:\\python\\python36\\lib\\site-packages\\sklearn\\metrics\\_classification.py:1248: UndefinedMetricWarning: Precision and F-score are ill-defined and being set to 0.0 in labels with no predicted samples. Use `zero_division` parameter to control this behavior.\n",
      "  _warn_prf(average, modifier, msg_start, len(result))\n",
      "c:\\python\\python36\\lib\\site-packages\\sklearn\\metrics\\_classification.py:1248: UndefinedMetricWarning: Precision and F-score are ill-defined and being set to 0.0 in labels with no predicted samples. Use `zero_division` parameter to control this behavior.\n",
      "  _warn_prf(average, modifier, msg_start, len(result))\n"
     ]
    }
   ],
   "source": [
    "y_pred_crawl = model.predict(X_crawl)\n",
    "y_pred_crawl = np.argmax(y_pred_crawl, axis = 1)\n",
    "print(classification_report(crawl_encode_tags, y_pred_crawl))"
   ]
  },
  {
   "cell_type": "markdown",
   "metadata": {},
   "source": [
    "## 4.2 BiLSTM model"
   ]
  },
  {
   "cell_type": "code",
   "execution_count": 35,
   "metadata": {},
   "outputs": [],
   "source": [
    "bi_model = Sequential()\n",
    "bi_model.add(Embedding(vocab_size, embedding_dim, input_length=MAX_LEN))\n",
    "bi_model.add(SpatialDropout1D(0.2))\n",
    "bi_model.add(layers.Bidirectional(LSTM(128, dropout=0.2, recurrent_dropout=0.2)))\n",
    "bi_model.add(Dense(7, activation='softmax'))\n",
    "bi_model.compile(loss='categorical_crossentropy', optimizer='adam', metrics=['accuracy'])"
   ]
  },
  {
   "cell_type": "code",
   "execution_count": 36,
   "metadata": {},
   "outputs": [
    {
     "name": "stdout",
     "output_type": "stream",
     "text": [
      "Epoch 1/10\n",
      "174/174 [==============================] - 342s 2s/step - loss: 1.7011 - accuracy: 0.3290 - val_loss: 1.4933 - val_accuracy: 0.4271\n",
      "Epoch 2/10\n",
      "174/174 [==============================] - 303s 2s/step - loss: 1.3068 - accuracy: 0.5156 - val_loss: 1.3516 - val_accuracy: 0.4796\n",
      "Epoch 3/10\n",
      "174/174 [==============================] - 304s 2s/step - loss: 0.9929 - accuracy: 0.6394 - val_loss: 1.3361 - val_accuracy: 0.5029\n",
      "Epoch 4/10\n",
      "174/174 [==============================] - 301s 2s/step - loss: 0.7857 - accuracy: 0.7193 - val_loss: 1.3595 - val_accuracy: 0.5160\n",
      "Epoch 00004: early stopping\n"
     ]
    }
   ],
   "source": [
    "bi_history = bi_model.fit(X_train, y_train,\n",
    "                    epochs=10,\n",
    "                    callbacks = [es],\n",
    "                    validation_data=(X_valid, y_valid),\n",
    "                    batch_size=32)"
   ]
  },
  {
   "cell_type": "code",
   "execution_count": 48,
   "metadata": {},
   "outputs": [],
   "source": [
    "bi_model.save(\"bi_model.h5\")"
   ]
  },
  {
   "cell_type": "code",
   "execution_count": 39,
   "metadata": {},
   "outputs": [
    {
     "data": {
      "image/png": "[encoded data removed]",
      "text/plain": [
       "<Figure size 432x288 with 1 Axes>"
      ]
     },
     "metadata": {
      "needs_background": "light"
     },
     "output_type": "display_data"
    }
   ],
   "source": [
    "pyplot.plot(bi_history.history['accuracy'], label='trainset') \n",
    "pyplot.plot(bi_history.history['val_accuracy'], label='validset') \n",
    "pyplot.legend() \n",
    "pyplot.show()"
   ]
  },
  {
   "cell_type": "code",
   "execution_count": 37,
   "metadata": {},
   "outputs": [],
   "source": [
    "y_pred = bi_model.predict(X_test)\n",
    "y_pred = np.argmax(y_pred, axis = 1)"
   ]
  },
  {
   "cell_type": "code",
   "execution_count": 38,
   "metadata": {},
   "outputs": [
    {
     "name": "stdout",
     "output_type": "stream",
     "text": [
      "              precision    recall  f1-score   support\n",
      "\n",
      "           0       0.40      0.47      0.44        40\n",
      "           1       0.52      0.60      0.55       132\n",
      "           2       0.63      0.60      0.62       193\n",
      "           3       0.83      0.41      0.55        46\n",
      "           4       0.38      0.50      0.44       129\n",
      "           5       0.62      0.55      0.58       116\n",
      "           6       0.80      0.32      0.46        37\n",
      "\n",
      "    accuracy                           0.54       693\n",
      "   macro avg       0.60      0.50      0.52       693\n",
      "weighted avg       0.57      0.54      0.54       693\n",
      "\n"
     ]
    }
   ],
   "source": [
    "print(classification_report(test_encode_tags, y_pred))"
   ]
  },
  {
   "cell_type": "code",
   "execution_count": 70,
   "metadata": {},
   "outputs": [
    {
     "name": "stdout",
     "output_type": "stream",
     "text": [
      "              precision    recall  f1-score   support\n",
      "\n",
      "           0       0.50      0.06      0.11        49\n",
      "           1       0.25      0.37      0.30        35\n",
      "           2       0.54      0.64      0.58       114\n",
      "           3       0.62      0.24      0.34        21\n",
      "           4       0.25      0.29      0.27        51\n",
      "           5       0.17      0.71      0.28         7\n",
      "           6       0.00      0.00      0.00        17\n",
      "           7       0.00      0.00      0.00         1\n",
      "\n",
      "    accuracy                           0.39       295\n",
      "   macro avg       0.29      0.29      0.24       295\n",
      "weighted avg       0.41      0.39      0.36       295\n",
      "\n"
     ]
    },
    {
     "name": "stderr",
     "output_type": "stream",
     "text": [
      "c:\\python\\python36\\lib\\site-packages\\sklearn\\metrics\\_classification.py:1248: UndefinedMetricWarning: Precision and F-score are ill-defined and being set to 0.0 in labels with no predicted samples. Use `zero_division` parameter to control this behavior.\n",
      "  _warn_prf(average, modifier, msg_start, len(result))\n",
      "c:\\python\\python36\\lib\\site-packages\\sklearn\\metrics\\_classification.py:1248: UndefinedMetricWarning: Precision and F-score are ill-defined and being set to 0.0 in labels with no predicted samples. Use `zero_division` parameter to control this behavior.\n",
      "  _warn_prf(average, modifier, msg_start, len(result))\n",
      "c:\\python\\python36\\lib\\site-packages\\sklearn\\metrics\\_classification.py:1248: UndefinedMetricWarning: Precision and F-score are ill-defined and being set to 0.0 in labels with no predicted samples. Use `zero_division` parameter to control this behavior.\n",
      "  _warn_prf(average, modifier, msg_start, len(result))\n"
     ]
    }
   ],
   "source": [
    "y_pred_crawl = bi_model.predict(X_crawl)\n",
    "y_pred_crawl = np.argmax(y_pred_crawl, axis = 1)\n",
    "print(classification_report(crawl_encode_tags, y_pred_crawl))"
   ]
  },
  {
   "cell_type": "markdown",
   "metadata": {},
   "source": [
    "## 4.3 Dense + TF IDF vectorize"
   ]
  },
  {
   "cell_type": "code",
   "execution_count": 76,
   "metadata": {},
   "outputs": [],
   "source": [
    "model_3 = Sequential()\n",
    "model_3.add(layers.Dense(512, activation = \"relu\"))\n",
    "model_3.add(layers.Dense(128, activation = \"sigmoid\"))\n",
    "model_3.add(layers.Dense(7, activation = \"softmax\"))\n",
    "model_3.compile(optimizer = \"adam\", loss = \"categorical_crossentropy\", metrics = ['accuracy'])"
   ]
  },
  {
   "cell_type": "code",
   "execution_count": 77,
   "metadata": {},
   "outputs": [
    {
     "name": "stdout",
     "output_type": "stream",
     "text": [
      "Epoch 1/10\n",
      "87/87 [==============================] - 2s 18ms/step - loss: 1.8030 - accuracy: 0.2699 - val_loss: 1.5749 - val_accuracy: 0.4184\n",
      "Epoch 2/10\n",
      "87/87 [==============================] - 1s 15ms/step - loss: 1.3255 - accuracy: 0.5288 - val_loss: 1.3104 - val_accuracy: 0.4927\n",
      "Epoch 3/10\n",
      "87/87 [==============================] - 1s 15ms/step - loss: 0.8969 - accuracy: 0.7081 - val_loss: 1.2754 - val_accuracy: 0.5292\n",
      "Epoch 4/10\n",
      "87/87 [==============================] - 1s 15ms/step - loss: 0.6277 - accuracy: 0.8053 - val_loss: 1.3508 - val_accuracy: 0.5364\n",
      "Epoch 00004: early stopping\n"
     ]
    }
   ],
   "source": [
    "y_train = tf.keras.utils.to_categorical(train_encode_tags)\n",
    "y_valid = tf.keras.utils.to_categorical(valid_encode_tags)\n",
    "\n",
    "es = tf.keras.callbacks.EarlyStopping(monitor='val_loss', mode='min', verbose=1)\n",
    "\n",
    "history_3 = model_3.fit(X_train, y_train,\n",
    "                    epochs=10,\n",
    "                    callbacks = [es],\n",
    "                    validation_data=(X_valid, y_valid),\n",
    "                    batch_size=64)"
   ]
  },
  {
   "cell_type": "code",
   "execution_count": 78,
   "metadata": {},
   "outputs": [
    {
     "data": {
      "image/png": "[encoded data removed]",
      "text/plain": [
       "<Figure size 432x288 with 1 Axes>"
      ]
     },
     "metadata": {
      "needs_background": "light"
     },
     "output_type": "display_data"
    }
   ],
   "source": [
    "pyplot.plot(history_3.history['accuracy'], label='trainset') \n",
    "pyplot.plot(history_3.history['val_accuracy'], label='validset') \n",
    "pyplot.legend() \n",
    "pyplot.show()"
   ]
  },
  {
   "cell_type": "code",
   "execution_count": 49,
   "metadata": {},
   "outputs": [],
   "source": [
    "y_pred = model_3.predict(X_test)\n",
    "y_pred = np.argmax(y_pred, axis = 1)"
   ]
  },
  {
   "cell_type": "code",
   "execution_count": 50,
   "metadata": {},
   "outputs": [
    {
     "name": "stdout",
     "output_type": "stream",
     "text": [
      "              precision    recall  f1-score   support\n",
      "\n",
      "           0       0.38      0.15      0.21        40\n",
      "           1       0.50      0.68      0.58       132\n",
      "           2       0.58      0.59      0.58       193\n",
      "           3       0.79      0.59      0.68        46\n",
      "           4       0.43      0.48      0.46       129\n",
      "           5       0.54      0.56      0.55       116\n",
      "           6       1.00      0.08      0.15        37\n",
      "\n",
      "    accuracy                           0.53       693\n",
      "   macro avg       0.60      0.45      0.46       693\n",
      "weighted avg       0.55      0.53      0.51       693\n",
      "\n"
     ]
    }
   ],
   "source": [
    "print(classification_report(test_encode_tags, y_pred))"
   ]
  },
  {
   "cell_type": "code",
   "execution_count": 79,
   "metadata": {},
   "outputs": [
    {
     "name": "stdout",
     "output_type": "stream",
     "text": [
      "              precision    recall  f1-score   support\n",
      "\n",
      "           0       0.40      0.04      0.07        49\n",
      "           1       0.14      0.23      0.17        35\n",
      "           2       0.55      0.62      0.58       114\n",
      "           3       0.50      0.19      0.28        21\n",
      "           4       0.27      0.33      0.30        51\n",
      "           5       0.19      0.71      0.30         7\n",
      "           6       0.00      0.00      0.00        17\n",
      "           7       0.00      0.00      0.00         1\n",
      "\n",
      "    accuracy                           0.36       295\n",
      "   macro avg       0.25      0.27      0.21       295\n",
      "weighted avg       0.38      0.36      0.34       295\n",
      "\n"
     ]
    },
    {
     "name": "stderr",
     "output_type": "stream",
     "text": [
      "c:\\python\\python36\\lib\\site-packages\\sklearn\\metrics\\_classification.py:1248: UndefinedMetricWarning: Precision and F-score are ill-defined and being set to 0.0 in labels with no predicted samples. Use `zero_division` parameter to control this behavior.\n",
      "  _warn_prf(average, modifier, msg_start, len(result))\n",
      "c:\\python\\python36\\lib\\site-packages\\sklearn\\metrics\\_classification.py:1248: UndefinedMetricWarning: Precision and F-score are ill-defined and being set to 0.0 in labels with no predicted samples. Use `zero_division` parameter to control this behavior.\n",
      "  _warn_prf(average, modifier, msg_start, len(result))\n",
      "c:\\python\\python36\\lib\\site-packages\\sklearn\\metrics\\_classification.py:1248: UndefinedMetricWarning: Precision and F-score are ill-defined and being set to 0.0 in labels with no predicted samples. Use `zero_division` parameter to control this behavior.\n",
      "  _warn_prf(average, modifier, msg_start, len(result))\n"
     ]
    }
   ],
   "source": [
    "y_pred_crawl = model_3.predict(X_crawl)\n",
    "y_pred_crawl = np.argmax(y_pred_crawl, axis = 1)\n",
    "print(classification_report(crawl_encode_tags, y_pred_crawl))"
   ]
  },
  {
   "cell_type": "markdown",
   "metadata": {},
   "source": [
    "## 4.4 Linear SVC + TF IDF vectorize"
   ]
  },
  {
   "cell_type": "code",
   "execution_count": 82,
   "metadata": {},
   "outputs": [],
   "source": [
    "from sklearn.svm import LinearSVC\n",
    "from sklearn.calibration import CalibratedClassifierCV"
   ]
  },
  {
   "cell_type": "code",
   "execution_count": 83,
   "metadata": {},
   "outputs": [],
   "source": [
    "linear_svc = LinearSVC()\n",
    "clf = linear_svc.fit(X_train, train_encode_tags)\n",
    "\n",
    "svc_model = CalibratedClassifierCV(base_estimator=linear_svc, cv=\"prefit\")\n",
    "\n",
    "svc_model.fit(X_train, train_encode_tags)\n",
    "y_pred = svc_model.predict(X_test)"
   ]
  },
  {
   "cell_type": "code",
   "execution_count": 37,
   "metadata": {},
   "outputs": [
    {
     "name": "stdout",
     "output_type": "stream",
     "text": [
      "              precision    recall  f1-score   support\n",
      "\n",
      "           0       0.27      0.30      0.29        40\n",
      "           1       0.51      0.54      0.53       132\n",
      "           2       0.56      0.60      0.58       193\n",
      "           3       0.64      0.63      0.64        46\n",
      "           4       0.48      0.45      0.46       129\n",
      "           5       0.55      0.54      0.55       116\n",
      "           6       0.58      0.41      0.48        37\n",
      "\n",
      "    accuracy                           0.52       693\n",
      "   macro avg       0.51      0.49      0.50       693\n",
      "weighted avg       0.53      0.52      0.52       693\n",
      "\n"
     ]
    }
   ],
   "source": [
    "print(classification_report(test_encode_tags, y_pred))"
   ]
  },
  {
   "cell_type": "code",
   "execution_count": 84,
   "metadata": {},
   "outputs": [
    {
     "name": "stdout",
     "output_type": "stream",
     "text": [
      "              precision    recall  f1-score   support\n",
      "\n",
      "           0       0.33      0.02      0.04        49\n",
      "           1       0.18      0.23      0.20        35\n",
      "           2       0.60      0.56      0.58       114\n",
      "           3       0.45      0.24      0.31        21\n",
      "           4       0.31      0.51      0.39        51\n",
      "           5       0.16      0.71      0.26         7\n",
      "           6       0.07      0.06      0.06        17\n",
      "           7       0.00      0.00      0.00         1\n",
      "\n",
      "    accuracy                           0.37       295\n",
      "   macro avg       0.26      0.29      0.23       295\n",
      "weighted avg       0.40      0.37      0.35       295\n",
      "\n"
     ]
    },
    {
     "name": "stderr",
     "output_type": "stream",
     "text": [
      "c:\\python\\python36\\lib\\site-packages\\sklearn\\metrics\\_classification.py:1248: UndefinedMetricWarning: Precision and F-score are ill-defined and being set to 0.0 in labels with no predicted samples. Use `zero_division` parameter to control this behavior.\n",
      "  _warn_prf(average, modifier, msg_start, len(result))\n",
      "c:\\python\\python36\\lib\\site-packages\\sklearn\\metrics\\_classification.py:1248: UndefinedMetricWarning: Precision and F-score are ill-defined and being set to 0.0 in labels with no predicted samples. Use `zero_division` parameter to control this behavior.\n",
      "  _warn_prf(average, modifier, msg_start, len(result))\n",
      "c:\\python\\python36\\lib\\site-packages\\sklearn\\metrics\\_classification.py:1248: UndefinedMetricWarning: Precision and F-score are ill-defined and being set to 0.0 in labels with no predicted samples. Use `zero_division` parameter to control this behavior.\n",
      "  _warn_prf(average, modifier, msg_start, len(result))\n"
     ]
    }
   ],
   "source": [
    "y_pred_crawl = svc_model.predict(X_crawl)\n",
    "print(classification_report(crawl_encode_tags, y_pred_crawl))"
   ]
  },
  {
   "cell_type": "code",
   "execution_count": null,
   "metadata": {},
   "outputs": [],
   "source": []
  }
 ],
 "metadata": {
  "kernelspec": {
   "display_name": "Python 3",
   "language": "python",
   "name": "python3"
  },
  "language_info": {
   "codemirror_mode": {
    "name": "ipython",
    "version": 3
   },
   "file_extension": ".py",
   "mimetype": "text/x-python",
   "name": "python",
   "nbconvert_exporter": "python",
   "pygments_lexer": "ipython3",
   "version": "3.6.7rc1"
  }
 },
 "nbformat": 4,
 "nbformat_minor": 4
}
